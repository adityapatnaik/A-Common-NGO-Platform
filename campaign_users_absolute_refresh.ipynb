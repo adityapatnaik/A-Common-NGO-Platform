{
  "nbformat": 4,
  "nbformat_minor": 0,
  "metadata": {
    "colab": {
      "provenance": [],
      "authorship_tag": "ABX9TyOqZUSqpGI3X8EEJokY2S1G",
      "include_colab_link": true
    },
    "kernelspec": {
      "name": "python3",
      "display_name": "Python 3"
    },
    "language_info": {
      "name": "python"
    }
  },
  "cells": [
    {
      "cell_type": "markdown",
      "metadata": {
        "id": "view-in-github",
        "colab_type": "text"
      },
      "source": [
        "<a href=\"https://colab.research.google.com/github/adityapatnaik/A-Common-NGO-Platform/blob/master/campaign_users_absolute_refresh.ipynb\" target=\"_parent\"><img src=\"https://colab.research.google.com/assets/colab-badge.svg\" alt=\"Open In Colab\"/></a>"
      ]
    },
    {
      "cell_type": "markdown",
      "source": [
        "# Initialize BigQuery client with service account credentials\n"
      ],
      "metadata": {
        "id": "Ym2VyVZk2Wy5"
      }
    },
    {
      "cell_type": "code",
      "execution_count": 8,
      "metadata": {
        "colab": {
          "base_uri": "https://localhost:8080/"
        },
        "id": "ERHVWI3QsLmd",
        "outputId": "1c4327a9-22d2-423a-c727-36800cc8e356"
      },
      "outputs": [
        {
          "output_type": "stream",
          "name": "stdout",
          "text": [
            "✅ Successfully connected to Google BigQuery.\n",
            "✅ Test query successful, result: 1\n",
            "hkm-pune-test.firestore_export.campaign_donors\n",
            "hkm-pune-test.firestore_export.campaign_users\n",
            "hkm-pune-test.firestore_export.campaign_users_backup_20250216_080424\n"
          ]
        }
      ],
      "source": [
        "from google.cloud import bigquery\n",
        "from datetime import datetime\n",
        "\n",
        "# Path to your service account JSON key file\n",
        "SERVICE_ACCOUNT_FILE = \"./hkm_pune_test_service_account_key.json\"\n",
        "\n",
        "# Initialize BigQuery client with service account credentials\n",
        "try:\n",
        "    client = bigquery.Client.from_service_account_json(SERVICE_ACCOUNT_FILE)\n",
        "    print(\"✅ Successfully connected to Google BigQuery.\")\n",
        "except Exception as e:\n",
        "    print(f\"❌ Connection failed: {e}\")\n",
        "    exit(1)  # Exit the script if the connection fails\n",
        "\n",
        "# Define dataset ID\n",
        "dataset_id = \"hkm-pune-test.firestore_export\"\n",
        "\n",
        "# Test query to check connectivity\n",
        "test_query = f\"SELECT 1 AS test_column\"\n",
        "try:\n",
        "    result = client.query(test_query).result()\n",
        "    for row in result:\n",
        "        print(f\"✅ Test query successful, result: {row.test_column}\")\n",
        "except Exception as e:\n",
        "    print(f\"❌ Test query failed: {e}\")\n",
        "    exit(1)  # Exit if the test query fails\n",
        "\n",
        "# Generate a timestamped backup table name\n",
        "timestamp = datetime.now().strftime(\"%Y%m%d_%H%M%S\")\n",
        "campaign_users_backup_table = f\"{dataset_id}.campaign_users_backup_{timestamp}\"\n",
        "\n",
        "# Define original table references\n",
        "campaign_users_table = f\"{dataset_id}.campaign_users\"\n",
        "campaign_donors_table = f\"{dataset_id}.campaign_donors\"\n",
        "\n",
        "print(campaign_donors_table)\n",
        "print(campaign_users_table)\n",
        "print(campaign_users_backup_table)"
      ]
    },
    {
      "cell_type": "markdown",
      "source": [
        "# Step 1: Backup the current campaign_users table with a timestamped name"
      ],
      "metadata": {
        "id": "Cl12htNR2fL8"
      }
    },
    {
      "cell_type": "code",
      "source": [
        "# Step 1: Backup the current campaign_users table with a timestamped name\n",
        "backup_query = f\"\"\"\n",
        "    CREATE TABLE `{campaign_users_backup_table}` AS\n",
        "    SELECT * FROM `{campaign_users_table}`\n",
        "\"\"\"\n",
        "client.query(backup_query).result()\n",
        "print(f\"Backup table `{campaign_users_backup_table}` created successfully.\")"
      ],
      "metadata": {
        "colab": {
          "base_uri": "https://localhost:8080/"
        },
        "id": "qN8xXVSqs7vW",
        "outputId": "0fc9306f-e78f-487f-83d6-81f39ecbfdd0"
      },
      "execution_count": 9,
      "outputs": [
        {
          "output_type": "stream",
          "name": "stdout",
          "text": [
            "Backup table `hkm-pune-test.firestore_export.campaign_users_backup_20250216_080424` created successfully.\n"
          ]
        }
      ]
    },
    {
      "cell_type": "markdown",
      "source": [
        "# Step 2: Reset cumulative values to zero in the backup table"
      ],
      "metadata": {
        "id": "pGKrX1pp2iJb"
      }
    },
    {
      "cell_type": "code",
      "source": [
        "# Step 2: Reset cumulative values to zero in the backup table\n",
        "reset_query = f\"\"\"\n",
        "    UPDATE `{campaign_users_backup_table}`\n",
        "    SET\n",
        "        cumulative_sq_feet_raised = 0,\n",
        "        cumulative_sq_feet_raised_amount = 0.0\n",
        "    WHERE 1=1  -- Added a WHERE clause to update all rows.\n",
        "\"\"\"\n",
        "client.query(reset_query).result()\n",
        "print(f\"Cumulative values reset to zero in `{campaign_users_backup_table}`.\")"
      ],
      "metadata": {
        "colab": {
          "base_uri": "https://localhost:8080/"
        },
        "id": "iY6QilKatMMO",
        "outputId": "721da8da-ab38-41a8-a102-74150f1f7bcb"
      },
      "execution_count": 10,
      "outputs": [
        {
          "output_type": "stream",
          "name": "stdout",
          "text": [
            "Cumulative values reset to zero in `hkm-pune-test.firestore_export.campaign_users_backup_20250216_080424`.\n"
          ]
        }
      ]
    },
    {
      "cell_type": "markdown",
      "source": [
        "# Step 3: Fetch all campaign donor entries"
      ],
      "metadata": {
        "id": "jwD2d72_2nhL"
      }
    },
    {
      "cell_type": "code",
      "source": [
        "# Step 3: Fetch all campaign donor entries\n",
        "donor_query = f\"\"\"\n",
        "    SELECT campaign_id, donated_sq_ft, donated_sq_ft_amount\n",
        "    FROM `{campaign_donors_table}`\n",
        "\"\"\"\n",
        "donor_rows = client.query(donor_query).result()\n",
        "print(donor_rows)"
      ],
      "metadata": {
        "colab": {
          "base_uri": "https://localhost:8080/"
        },
        "id": "9WnVTQFqtcAw",
        "outputId": "3864302b-ee04-45df-8dd2-69b1ed8852ea"
      },
      "execution_count": 11,
      "outputs": [
        {
          "output_type": "stream",
          "name": "stdout",
          "text": [
            "<google.cloud.bigquery.table.RowIterator object at 0x7a093c791490>\n"
          ]
        }
      ]
    },
    {
      "cell_type": "markdown",
      "source": [
        "# Step 4: Iterate through each donation and update cumulative values in the backup table"
      ],
      "metadata": {
        "id": "zAFE2DH52syh"
      }
    },
    {
      "cell_type": "code",
      "source": [
        "# Step 4: Iterate through each donation and update cumulative values in the backup table\n",
        "for row in donor_rows:\n",
        "    campaign_id = row.campaign_id\n",
        "    donated_sq_ft = row.donated_sq_ft\n",
        "    donated_sq_ft_amount = row.donated_sq_ft_amount\n",
        "\n",
        "    # ✅ First, update the `campaign_id` itself\n",
        "    update_self_query = f\"\"\"\n",
        "        UPDATE `{campaign_users_backup_table}`\n",
        "        SET\n",
        "            cumulative_sq_feet_raised = IFNULL(cumulative_sq_feet_raised, 0) + @donated_sq_ft,\n",
        "            cumulative_sq_feet_raised_amount = IFNULL(cumulative_sq_feet_raised_amount, 0) + @donated_sq_ft_amount\n",
        "        WHERE user_id = @campaign_id\n",
        "    \"\"\"\n",
        "    update_self_params = [\n",
        "        bigquery.ScalarQueryParameter(\"donated_sq_ft\", \"INT64\", donated_sq_ft),\n",
        "        bigquery.ScalarQueryParameter(\"donated_sq_ft_amount\", \"NUMERIC\", donated_sq_ft_amount),\n",
        "        bigquery.ScalarQueryParameter(\"campaign_id\", \"INT64\", campaign_id)\n",
        "    ]\n",
        "    client.query(update_self_query, job_config=bigquery.QueryJobConfig(\n",
        "        query_parameters=update_self_params)).result()\n",
        "\n",
        "    current_user_id = campaign_id  # Start with the campaign_id from donors table\n",
        "\n",
        "    while current_user_id:\n",
        "        # Get parent_id for the current campaign in the backup table\n",
        "        parent_query = f\"\"\"\n",
        "            SELECT parent_id\n",
        "            FROM `{campaign_users_backup_table}`\n",
        "            WHERE user_id = @current_user_id\n",
        "        \"\"\"\n",
        "        parent_query_params = [\n",
        "            bigquery.ScalarQueryParameter(\"current_user_id\", \"INT64\", current_user_id)\n",
        "        ]\n",
        "        parent_results = client.query(parent_query, job_config=bigquery.QueryJobConfig(\n",
        "            query_parameters=parent_query_params)).result()\n",
        "\n",
        "        parent_rows = list(parent_results)\n",
        "        if not parent_rows or not parent_rows[0].parent_id:\n",
        "            break  # Stop if there's no parent\n",
        "\n",
        "        current_user_id = parent_rows[0].parent_id  # Move to the parent\n",
        "\n",
        "        # Update cumulative values for the parent in the backup table\n",
        "        update_query = f\"\"\"\n",
        "            UPDATE `{campaign_users_backup_table}`\n",
        "            SET\n",
        "                cumulative_sq_feet_raised = IFNULL(cumulative_sq_feet_raised, 0) + @donated_sq_ft,\n",
        "                cumulative_sq_feet_raised_amount = IFNULL(cumulative_sq_feet_raised_amount, 0) + @donated_sq_ft_amount\n",
        "            WHERE user_id = @current_user_id\n",
        "        \"\"\"\n",
        "        update_query_params = [\n",
        "            bigquery.ScalarQueryParameter(\"donated_sq_ft\", \"INT64\", donated_sq_ft),\n",
        "            bigquery.ScalarQueryParameter(\"donated_sq_ft_amount\", \"NUMERIC\", donated_sq_ft_amount),\n",
        "            bigquery.ScalarQueryParameter(\"current_user_id\", \"INT64\", current_user_id)\n",
        "        ]\n",
        "        client.query(update_query, job_config=bigquery.QueryJobConfig(\n",
        "            query_parameters=update_query_params)).result()\n",
        "\n",
        "print(f\"Cumulative updates completed successfully in `{campaign_users_backup_table}`.\")"
      ],
      "metadata": {
        "colab": {
          "base_uri": "https://localhost:8080/"
        },
        "id": "eRElu4ZytQpr",
        "outputId": "8cd5af11-e944-4c13-c972-a23c8f2b1939"
      },
      "execution_count": 13,
      "outputs": [
        {
          "output_type": "stream",
          "name": "stdout",
          "text": [
            "Cumulative updates completed successfully in `hkm-pune-test.firestore_export.campaign_users_backup_20250216_080424`.\n"
          ]
        }
      ]
    }
  ]
}